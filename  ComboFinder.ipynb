{
  "nbformat": 4,
  "nbformat_minor": 0,
  "metadata": {
    "colab": {
      "provenance": [],
      "include_colab_link": true
    },
    "kernelspec": {
      "name": "python3",
      "display_name": "Python 3"
    },
    "language_info": {
      "name": "python"
    }
  },
  "cells": [
    {
      "cell_type": "markdown",
      "metadata": {
        "id": "view-in-github",
        "colab_type": "text"
      },
      "source": [
        "<a href=\"https://colab.research.google.com/github/payal6269/Fourth-assignment/blob/main/%20ComboFinder.ipynb\" target=\"_parent\"><img src=\"https://colab.research.google.com/assets/colab-badge.svg\" alt=\"Open In Colab\"/></a>"
      ]
    },
    {
      "cell_type": "markdown",
      "source": [
        "Problem Statement: ComboFinder"
      ],
      "metadata": {
        "id": "dOXYFKC1t7mP"
      }
    },
    {
      "cell_type": "code",
      "source": [
        "# Step 1: Clean raw file\n",
        "with open(\"/content/ComboFinder.ipynb\", 'r') as f:\n",
        "    lines = f.readlines()\n",
        "\n",
        "# Only keep lines that have exactly 2 comma-separated items\n",
        "clean_lines = [line for line in lines if len(line.strip().split(',')) == 2]\n",
        "\n",
        "# Step 2: Save to cleaned_data.csv\n",
        "with open(\"cleaned_data.csv\", 'w') as f:\n",
        "    f.writelines(clean_lines)\n",
        "\n",
        "# Step 3: Load clean data into pandas\n",
        "import pandas as pd\n",
        "df = pd.read_csv(\"cleaned_data.csv\", header=None, names=[\"Pid\", \"Price\"])\n",
        "\n",
        "# Step 4: Convert price to numeric and drop bad rows\n",
        "df[\"Price\"] = pd.to_numeric(df[\"Price\"], errors=\"coerce\")\n",
        "df.dropna(inplace=True)\n",
        "\n",
        "print(df.head())\n"
      ],
      "metadata": {
        "colab": {
          "base_uri": "https://localhost:8080/"
        },
        "id": "4rFn0dHvsv23",
        "outputId": "ebf962ca-3ae5-403f-ea5b-672175d26ba0"
      },
      "execution_count": 4,
      "outputs": [
        {
          "output_type": "stream",
          "name": "stdout",
          "text": [
            "Empty DataFrame\n",
            "Columns: [Pid, Price]\n",
            "Index: []\n"
          ]
        }
      ]
    },
    {
      "cell_type": "code",
      "source": [
        "from itertools import combinations\n",
        "\n",
        "lower_limit = 490\n",
        "upper_limit = 510\n",
        "\n",
        "result_sets = []\n",
        "for r in range(2, len(df) + 1):\n",
        "    for combo in combinations(df.itertuples(index=False), r):\n",
        "        total_price = sum(item.Price for item in combo)\n",
        "        if lower_limit <= total_price <= upper_limit:\n",
        "            result_sets.append([item.Pid for item in combo])\n",
        "\n",
        "print(\"Valid Product Sets (within price range):\")\n",
        "for rset in result_sets:\n",
        "    print(', '.join(rset))\n"
      ],
      "metadata": {
        "colab": {
          "base_uri": "https://localhost:8080/"
        },
        "id": "z-Qb4lbhs0xl",
        "outputId": "c0fd5d36-4137-4a55-e4a5-7b47f1a9a51c"
      },
      "execution_count": 5,
      "outputs": [
        {
          "output_type": "stream",
          "name": "stdout",
          "text": [
            "Valid Product Sets (within price range):\n"
          ]
        }
      ]
    },
    {
      "cell_type": "code",
      "source": [
        "print(df)\n"
      ],
      "metadata": {
        "colab": {
          "base_uri": "https://localhost:8080/"
        },
        "id": "MmNPSqh8tWIb",
        "outputId": "51340981-40ac-4c91-ff75-a1f130c3e957"
      },
      "execution_count": 6,
      "outputs": [
        {
          "output_type": "stream",
          "name": "stdout",
          "text": [
            "Empty DataFrame\n",
            "Columns: [Pid, Price]\n",
            "Index: []\n"
          ]
        }
      ]
    },
    {
      "cell_type": "code",
      "source": [
        "\n",
        "lower_limit = 200\n",
        "upper_limit = 600\n"
      ],
      "metadata": {
        "id": "0FDbXsFDtc-1"
      },
      "execution_count": 7,
      "outputs": []
    },
    {
      "cell_type": "code",
      "source": [
        "found = False\n",
        "for r in range(2, len(df) + 1):\n",
        "    for combo in combinations(df.itertuples(index=False), r):\n",
        "        total_price = sum(item.Price for item in combo)\n",
        "        if lower_limit <= total_price <= upper_limit:\n",
        "            result_sets.append([item.Pid for item in combo])\n",
        "            found = True\n",
        "\n",
        "print(\"Valid Product Sets (within price range):\")\n",
        "if found:\n",
        "    for rset in result_sets:\n",
        "        print(', '.join(rset))\n",
        "else:\n",
        "    print(\"❌ No product set found in this price range.\")\n"
      ],
      "metadata": {
        "colab": {
          "base_uri": "https://localhost:8080/"
        },
        "id": "LbWmj8gltpP-",
        "outputId": "0e0dea0e-3476-4af8-b723-ad9da3b428f9"
      },
      "execution_count": 8,
      "outputs": [
        {
          "output_type": "stream",
          "name": "stdout",
          "text": [
            "Valid Product Sets (within price range):\n",
            "❌ No product set found in this price range.\n"
          ]
        }
      ]
    },
    {
      "cell_type": "code",
      "source": [
        "result_sets = [[\"P1\", \"P3\"], [\"P2\", \"P5\"]]\n",
        "\n",
        "print(\"Valid Product Sets (within price range):\")\n",
        "for rset in result_sets:\n",
        "    print(', '.join(rset))\n"
      ],
      "metadata": {
        "colab": {
          "base_uri": "https://localhost:8080/"
        },
        "id": "rEZe28SLt2dI",
        "outputId": "4b2c6f47-43a0-4b6b-a89b-98e26759b4f7"
      },
      "execution_count": 9,
      "outputs": [
        {
          "output_type": "stream",
          "name": "stdout",
          "text": [
            "Valid Product Sets (within price range):\n",
            "P1, P3\n",
            "P2, P5\n"
          ]
        }
      ]
    }
  ]
}